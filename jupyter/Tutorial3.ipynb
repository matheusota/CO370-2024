{
 "cells": [
  {
   "cell_type": "markdown",
   "id": "9fa7eae0-ed87-4cb5-a3a5-306c95dbb2a1",
   "metadata": {},
   "source": [
    "# Tutorial 3\n",
    "\n",
    "## Python Dictionaries\n",
    "\n",
    "Dictionaries are data structures that store `key : value` pairs (if you want to learn more about how dictionaries are implemented, you may start here https://en.wikipedia.org/wiki/Hash_table). We start with the following example."
   ]
  },
  {
   "cell_type": "code",
   "execution_count": 1,
   "id": "5f6f2afc-9534-4028-9afb-38256519159e",
   "metadata": {},
   "outputs": [
    {
     "name": "stdout",
     "output_type": "stream",
     "text": [
      "<class 'dict'>\n"
     ]
    }
   ],
   "source": [
    "student1 = {\n",
    "   \"name\": \"Alice\",\n",
    "   \"age\": 21,\n",
    "   \"major\": \"Computer Science\"\n",
    "}\n",
    "print(type(student1))"
   ]
  },
  {
   "cell_type": "markdown",
   "id": "813c73af-41e1-48f5-901e-7dd721fc2a29",
   "metadata": {},
   "source": [
    "So `student1` is a dictionary, and it has keys `name`, `age` and `major`. The key `name` maps to the value `Alice`, the key `age` maps to the value `21` and the key `major` maps to the value `Computer Science`. To access a value of the dictionary, we use its corresponding key."
   ]
  },
  {
   "cell_type": "code",
   "execution_count": 2,
   "id": "6a0de04a-2f76-4619-8803-4c523b011432",
   "metadata": {},
   "outputs": [
    {
     "name": "stdout",
     "output_type": "stream",
     "text": [
      "Computer Science\n"
     ]
    }
   ],
   "source": [
    "print(student1[\"major\"])"
   ]
  },
  {
   "cell_type": "code",
   "execution_count": 3,
   "id": "2ddfd142-0ac5-4d29-9a62-f82d88b4ea83",
   "metadata": {},
   "outputs": [
    {
     "ename": "KeyError",
     "evalue": "0",
     "output_type": "error",
     "traceback": [
      "\u001b[0;31m---------------------------------------------------------------------------\u001b[0m",
      "\u001b[0;31mKeyError\u001b[0m                                  Traceback (most recent call last)",
      "Cell \u001b[0;32mIn[3], line 1\u001b[0m\n\u001b[0;32m----> 1\u001b[0m \u001b[38;5;28mprint\u001b[39m(\u001b[43mstudent1\u001b[49m\u001b[43m[\u001b[49m\u001b[38;5;241;43m0\u001b[39;49m\u001b[43m]\u001b[49m)\n",
      "\u001b[0;31mKeyError\u001b[0m: 0"
     ]
    }
   ],
   "source": [
    " print(student1[0])"
   ]
  },
  {
   "cell_type": "markdown",
   "id": "b201b397-e447-42e4-9547-e98cf5f0a208",
   "metadata": {},
   "source": [
    "The error above is because `0` is not a key of the dictionary `student1`. We can also create an empty dictionary and add `key : value` pairs to it."
   ]
  },
  {
   "cell_type": "code",
   "execution_count": 4,
   "id": "616bdf27-883b-43b7-bd93-e88e9951a47d",
   "metadata": {},
   "outputs": [
    {
     "name": "stdout",
     "output_type": "stream",
     "text": [
      "{'name': 'Bob', 'age': 20, 'major': ['Mathematics', 'Computer Science']}\n"
     ]
    }
   ],
   "source": [
    "student2 = {}\n",
    "student2[\"name\"] = \"Bob\"\n",
    "student2[\"age\"] = 20\n",
    "student2[\"major\"] = [\"Mathematics\", \"Computer Science\"]\n",
    "print(student2)"
   ]
  },
  {
   "cell_type": "markdown",
   "id": "71518343-17dd-4231-aa27-08443d9c1ec0",
   "metadata": {},
   "source": [
    " Note that while `student1[\"major\"]` is the string `\"Computer Science\"`, `student2[\"major\"]` is the **list** `[\"Mathematics\", \"Computer Science\"]`. We can use multiple types for the keys and the values of a dictionary. However, look at what happens below."
   ]
  },
  {
   "cell_type": "code",
   "execution_count": 5,
   "id": "fa5d61ff-e1fb-4df2-aa8e-72d50c921de3",
   "metadata": {},
   "outputs": [
    {
     "ename": "TypeError",
     "evalue": "unhashable type: 'list'",
     "output_type": "error",
     "traceback": [
      "\u001b[0;31m---------------------------------------------------------------------------\u001b[0m",
      "\u001b[0;31mTypeError\u001b[0m                                 Traceback (most recent call last)",
      "Cell \u001b[0;32mIn[5], line 1\u001b[0m\n\u001b[0;32m----> 1\u001b[0m \u001b[43mstudent2\u001b[49m\u001b[43m[\u001b[49m\u001b[43m[\u001b[49m\u001b[38;5;124;43m\"\u001b[39;49m\u001b[38;5;124;43ma\u001b[39;49m\u001b[38;5;124;43m\"\u001b[39;49m\u001b[43m,\u001b[49m\u001b[43m \u001b[49m\u001b[38;5;124;43m\"\u001b[39;49m\u001b[38;5;124;43mb\u001b[39;49m\u001b[38;5;124;43m\"\u001b[39;49m\u001b[43m]\u001b[49m\u001b[43m]\u001b[49m \u001b[38;5;241m=\u001b[39m \u001b[38;5;241m1\u001b[39m\n",
      "\u001b[0;31mTypeError\u001b[0m: unhashable type: 'list'"
     ]
    }
   ],
   "source": [
    "student2[[\"a\", \"b\"]] = 1"
   ]
  },
  {
   "cell_type": "markdown",
   "id": "3d8fc82b-fe58-44f4-8c44-a07a446192f5",
   "metadata": {},
   "source": [
    "So while we can use lists as **values**, we cannot use lists as **keys**. This is getting a bit more in-depth into the hash-tables that I mentioned previously, but essentially every object that we use as a **key** needs to be **hashable**, that is, it needs to implement a **hash function**. In general, in Python **immutable** objects are hashable, while **mutable** are not. As the name suggests, an immutable object is one that you cannot change its value. For instance, **tuples** are immutable variants of lists."
   ]
  },
  {
   "cell_type": "code",
   "execution_count": 6,
   "id": "4e70c0ce-aceb-48d4-9b16-b917573a026a",
   "metadata": {},
   "outputs": [
    {
     "ename": "TypeError",
     "evalue": "'tuple' object does not support item assignment",
     "output_type": "error",
     "traceback": [
      "\u001b[0;31m---------------------------------------------------------------------------\u001b[0m",
      "\u001b[0;31mTypeError\u001b[0m                                 Traceback (most recent call last)",
      "Cell \u001b[0;32mIn[6], line 4\u001b[0m\n\u001b[1;32m      2\u001b[0m L[\u001b[38;5;241m0\u001b[39m] \u001b[38;5;241m=\u001b[39m \u001b[38;5;124m\"\u001b[39m\u001b[38;5;124mc\u001b[39m\u001b[38;5;124m\"\u001b[39m\n\u001b[1;32m      3\u001b[0m T \u001b[38;5;241m=\u001b[39m (\u001b[38;5;124m\"\u001b[39m\u001b[38;5;124ma\u001b[39m\u001b[38;5;124m\"\u001b[39m, \u001b[38;5;124m\"\u001b[39m\u001b[38;5;124mb\u001b[39m\u001b[38;5;124m\"\u001b[39m) \u001b[38;5;66;03m# this is a tuple\u001b[39;00m\n\u001b[0;32m----> 4\u001b[0m \u001b[43mT\u001b[49m\u001b[43m[\u001b[49m\u001b[38;5;241;43m0\u001b[39;49m\u001b[43m]\u001b[49m \u001b[38;5;241m=\u001b[39m \u001b[38;5;124m\"\u001b[39m\u001b[38;5;124mc\u001b[39m\u001b[38;5;124m\"\u001b[39m\n",
      "\u001b[0;31mTypeError\u001b[0m: 'tuple' object does not support item assignment"
     ]
    }
   ],
   "source": [
    "L = [\"a\", \"b\"] # this is a list\n",
    "L[0] = \"c\"\n",
    "T = (\"a\", \"b\") # this is a tuple\n",
    "T[0] = \"c\""
   ]
  },
  {
   "cell_type": "markdown",
   "id": "8661d524-b3fb-4ab8-be62-ec103b189274",
   "metadata": {},
   "source": [
    "The error above shows that while we can modify a list, we cannot modify a tuple. If you want, here is a reference for some extra reading on hash functions in Python: https://www.pythonmorsels.com/what-are-hashable-objects/ .\n",
    "Given that tuples are immutable, we may now infer that tuples are hashable, while lists are not. So let's try to use a tuple as key to the dictionary `student2`."
   ]
  },
  {
   "cell_type": "code",
   "execution_count": 7,
   "id": "48805ddc-0837-4038-8c60-eff5a13b9a6d",
   "metadata": {},
   "outputs": [
    {
     "name": "stdout",
     "output_type": "stream",
     "text": [
      "{'name': 'Bob', 'age': 20, 'major': ['Mathematics', 'Computer Science'], ('a', 'b'): 1}\n"
     ]
    }
   ],
   "source": [
    "student2[(\"a\", \"b\")] = 1\n",
    "print(student2)"
   ]
  },
  {
   "cell_type": "markdown",
   "id": "2942530c-27f8-4ba6-bfd1-9e5d6512a237",
   "metadata": {},
   "source": [
    "Great! So we learned that if we want to use a list as a key to some dictionary, then we first need to convert the list to a tuple. To end our discussion on dictionaries, let us now see how to iterate through the elements of a dictionary."
   ]
  },
  {
   "cell_type": "code",
   "execution_count": 8,
   "id": "2aecc8e2-d52c-4cda-800b-48cdcf80f16e",
   "metadata": {},
   "outputs": [
    {
     "name": "stdout",
     "output_type": "stream",
     "text": [
      "name\n",
      "age\n",
      "major\n",
      "('a', 'b')\n"
     ]
    }
   ],
   "source": [
    "for key in student2:\n",
    "    print(key)"
   ]
  },
  {
   "cell_type": "markdown",
   "id": "7e71e88f-68b2-4705-b2fa-8a666411b0c8",
   "metadata": {},
   "source": [
    "And since for each key `key` we have a corresponding value `student2[key]`, we can access the `key : value` pairs of a dictionary as follows."
   ]
  },
  {
   "cell_type": "code",
   "execution_count": 9,
   "id": "5886aa86-519b-4474-b32d-f74365f3dbe9",
   "metadata": {},
   "outputs": [
    {
     "name": "stdout",
     "output_type": "stream",
     "text": [
      "key: name, value: Bob\n",
      "key: age, value: 20\n",
      "key: major, value: ['Mathematics', 'Computer Science']\n",
      "key: ('a', 'b'), value: 1\n"
     ]
    }
   ],
   "source": [
    "for key in student2:\n",
    "    print(\"key: \" + str(key) + \", value: \" + str(student2[key]))"
   ]
  },
  {
   "cell_type": "markdown",
   "id": "1b2c45ac-f1af-47ee-926b-38f1d2c4a566",
   "metadata": {},
   "source": [
    "## Network Flow Gurobi Example\n",
    "\n",
    "### Introduction\n",
    "All the examples we’ve explored so far are “toy” problems designed to help you grasp the basics. Now, we will tackle a more complex integer programming problem that reflects challenges encountered in the real world.\n",
    "\n",
    "Imagine we are **Operations Research analysts** for a major airline. Due to a pilot strike, many flights have been canceled, leaving numerous passengers dissatisfied—an issue that adversely affects our business. Fortunately, partner airlines have offered seats on their flights, giving us the opportunity to reallocate passengers from canceled flights. Our goal is to assign these passengers to available flights in a way that maximizes the number of individuals reaching their destinations.\n",
    "\n",
    "More formally, let $c_1, c_2, \\ldots, c_\\ell$ represent the **canceled flights**. For each $i = 1, \\ldots, \\ell$, flight $c_i$ was originally scheduled to carry $p_i$ **passengers**. The partner airlines allow us to reallocate these passengers to **flights** $f_1, \\ldots, f_k$, where each flight $f_i$ has $u_i$ **available seats**. We will model this problem as a \"network-flow-type\" problem (see Chapter 2.5 of the Lecture Notes) as follows.\n",
    "\n",
    "We will represent the problem using a directed graph $G = (V, A)$. The set of nodes $V$ is given by $\\{f_1, \\ldots, f_k\\} \\cup \\{s_i, t_i\\}_{i = 1}^\\ell$. For each $i = 1, \\ldots, \\ell$, vertex $s_i$ (respectively $t_i$) is an artificial source (respectively sink) vertex corresponding to the canceled flight $c_i$.\n",
    "\n",
    "The set of arcs $A$ is constructed by identifying possible **connections** between the flights. Specifically, for every pair of flights $f_i$ and $f_j$ that can be connected (i.e., the destination of flight $f_i$ matches the origin of flight $f_j$, and flight $f_i$ arrives before flight $f_j$ departs), we include an arc $(f_i, f_j) \\in A$. Additionally, we create arcs from each source $s_i$ to a flight $f_j$ if the passengers from the canceled flight $c_i$ can take flight $f_j$ (so the origin of $f_j$ is the same as the origin of $c_i$ and $f_j$ departs after the original departure time of $c_i$). Similarly, we also add arcs from a flight $f_j$ to a sink vertex $t_i$, if $f_j$ and $t_i$ have the same destination.\n",
    "\n",
    "(**Remark:** This may not be the most \"natural\" way to model this problem. One might instead create vertices for each of the **airports** and model the flights as arcs. However, this approach fail to model the **flights connections**; for instance, with this approach, it is not clear how we would model the requirement that if flight $f_1$ occurs before flight $f_2$, then passengers cannot be assigned to flight $f_2$ before taking flight $f_1$. By creating nodes for each of the **flights**, we can model this constraint in the set of arcs $A$.)\n",
    "\n",
    "### Mathematical formulation\n",
    "\n",
    "For each $i = 1, \\ldots, \\ell$ and arc $uv \\in A$, we have a **flow variable** $f^i_{uv}$, which is an integer variable and indicates the amount of passengers of flight $c_i$ that should travel through arc $uv$ (either making a connection between flights $u$ and $v$, or departuring/arriving in the origin/destination of flight $c_i$). We formulate this problem as follows.\n",
    "\\begin{align} \n",
    "\\min &~~\\sum_{i = 1}^\\ell \\sum_{a \\in \\delta^+(s_i)} f^i_a & \\nonumber \\\\\n",
    "\\text{s.t.} &~~ \\sum_{a \\in \\delta^-(v)} f^i_a - \\sum_{a \\in \\delta^+(v)} f^i_a =\n",
    "\\begin{cases}\n",
    "-p_i & \\text{if } v = s_i, \\\\\n",
    "p_i & \\text{if } v = t_i, \\\\\n",
    "0 & \\text{otherwise,}\n",
    "\\end{cases} & \\forall v \\in V,~i = 1, \\ldots, \\ell, \n",
    " \\nonumber \\\\\n",
    "&~~ \\sum_{i = 1}^\\ell \\sum_{a \\in \\delta^-(f_j)} f^i_a \\leq u_i, & \\forall j = 1, \\ldots, k, \\nonumber \\\\ \n",
    "&~~ f^i_a \\in \\{0, \\ldots, p_i\\}, & \\forall a \\in A,~i = 1, \\ldots, \\ell. \n",
    "\\end{align}"
   ]
  },
  {
   "cell_type": "markdown",
   "id": "10d610d5-b850-4744-862a-e15e8ad6cbfe",
   "metadata": {},
   "source": [
    "### Input file\n",
    "\n",
    "The input to our problem will be given by a file that looks like this.\n",
    "```\n",
    "3 4\n",
    "0 30\n",
    "1 12\n",
    "2 25\n",
    "0 50\n",
    "1 20\n",
    "2 25\n",
    "3 40\n",
    "f0 f1\n",
    "f0 f2\n",
    "f1 f2\n",
    "f1 f3\n",
    "f2 f3\n",
    "s0 f0\n",
    "s1 f1\n",
    "s2 f1\n",
    "f2 t1\n",
    "f3 t2\n",
    "f3 t0\n",
    "```\n",
    "\n",
    "To simplify the coding we will do later, we start counting from 0 rather than 1. The first line of this file contain the integers $\\ell$ and $k$. Then, each of the next $\\ell$ lines contain the id $i$ and the number of passengers $p_i$. In this case $p_0 = 30, p_1 = 12$ and $p_2 = 25$. After these $\\ell$ lines, we then have $k$ lines, each containing the id $j$ and the number of available seats $u_j$. So in this case, $u_0 = 50, u_1 = 20, u_2 = 25$ and $u_3 = 40$. Finally, the remaining lines of the file correspond to the arcs in our graph. For example, in this case, we have arcs $(f_0, f_1), (f_0, f_2), (f_1, f_2)$ and so on.\n",
    "\n",
    "The image below illustrates the graph $G = (V, E)$ associated with this instance and a corresponding optimal solution. The number next to the nodes denote the number of passengers or the number of available seats. The numbers next to the dashed lines represent flow of passengers.\n",
    "\n",
    "![image info](./graph.svg)"
   ]
  },
  {
   "cell_type": "markdown",
   "id": "80b63a4d-086d-46bc-ba9d-f03e75456096",
   "metadata": {},
   "source": [
    "### Code\n",
    "\n",
    "As usual, we start by setting up gurobi and reading the input file."
   ]
  },
  {
   "cell_type": "code",
   "execution_count": 10,
   "id": "59578aca-01ec-4d84-98d1-e688ad2f4295",
   "metadata": {},
   "outputs": [
    {
     "name": "stdout",
     "output_type": "stream",
     "text": [
      "Set parameter Username\n",
      "Academic license - for non-commercial use only - expires 2025-05-16\n"
     ]
    }
   ],
   "source": [
    "import gurobipy as gp\n",
    "from gurobipy import GRB\n",
    "\n",
    "m = gp.Model(\"flights\")\n",
    "\n",
    "f = open(\"../data/flights.txt\", \"r\")\n",
    "\n",
    "data = f.readlines()"
   ]
  },
  {
   "cell_type": "markdown",
   "id": "180e9446-6d4a-4e94-be31-5643288bc76f",
   "metadata": {},
   "source": [
    "We will use a variable `line_index` to iterate through the lines of the file. The first step is to read $\\ell$ and $k$ from the first line."
   ]
  },
  {
   "cell_type": "code",
   "execution_count": 11,
   "id": "dc2c30b0-30b5-4851-b468-ac342d35b321",
   "metadata": {},
   "outputs": [
    {
     "name": "stdout",
     "output_type": "stream",
     "text": [
      "number of canceled flights: 3\n",
      "number of partner flights: 4\n"
     ]
    }
   ],
   "source": [
    "# First line contains number of canceled flights and number of partner flights.\n",
    "line_index = 0\n",
    "L = data[0].strip().split(\" \")\n",
    "n_canceled = int(L[0])\n",
    "n_flights = int(L[1])\n",
    "line_index += 1\n",
    "print(\"number of canceled flights: \" + str(n_canceled))\n",
    "print(\"number of partner flights: \" + str(n_flights))"
   ]
  },
  {
   "cell_type": "markdown",
   "id": "20903f21-b7e5-4109-92a8-115987d9983a",
   "metadata": {},
   "source": [
    "Notice that we are calling `strip()`. This is so that we can get rid of the end-of-line characters `\\n`. Check the next snippets."
   ]
  },
  {
   "cell_type": "code",
   "execution_count": 12,
   "id": "9aaa7dc0-7c1d-4fa8-a9ad-bffece3eea86",
   "metadata": {},
   "outputs": [
    {
     "data": {
      "text/plain": [
       "'3 4\\n'"
      ]
     },
     "execution_count": 12,
     "metadata": {},
     "output_type": "execute_result"
    }
   ],
   "source": [
    "data[0]"
   ]
  },
  {
   "cell_type": "code",
   "execution_count": 13,
   "id": "a3526121-66fd-409a-a7fb-ff192a6628e5",
   "metadata": {},
   "outputs": [
    {
     "data": {
      "text/plain": [
       "'3 4'"
      ]
     },
     "execution_count": 13,
     "metadata": {},
     "output_type": "execute_result"
    }
   ],
   "source": [
    "data[0].strip()"
   ]
  },
  {
   "cell_type": "markdown",
   "id": "b32d6ffb-f2e4-44f7-89d6-cf76ae6860ba",
   "metadata": {},
   "source": [
    "Now that we have $\\ell$ and $k$, we construct the set of vertices $V$."
   ]
  },
  {
   "cell_type": "code",
   "execution_count": 14,
   "id": "817856fc-bcf6-4a6f-a0f2-6e0a04731962",
   "metadata": {},
   "outputs": [
    {
     "name": "stdout",
     "output_type": "stream",
     "text": [
      "['s0', 't0', 's1', 't1', 's2', 't2', 'f0', 'f1', 'f2', 'f3']\n"
     ]
    }
   ],
   "source": [
    "# Construct the set of vertices.\n",
    "vertices = []\n",
    "for i in range(n_canceled):\n",
    "    vertices.append(\"s\" + str(i))\n",
    "    vertices.append(\"t\" + str(i))\n",
    "for j in range(n_flights):\n",
    "    vertices.append(\"f\" + str(j))\n",
    "\n",
    "print(vertices)"
   ]
  },
  {
   "cell_type": "markdown",
   "id": "195ba7f9-a8f1-48db-9ce1-dc604d4e79eb",
   "metadata": {},
   "source": [
    "Next, we read the number of passengers in each cancelled flight."
   ]
  },
  {
   "cell_type": "code",
   "execution_count": 15,
   "id": "cbbb53ec-4449-4042-b33e-319ebfd5f89a",
   "metadata": {},
   "outputs": [
    {
     "name": "stdout",
     "output_type": "stream",
     "text": [
      "[30, 12, 25]\n"
     ]
    }
   ],
   "source": [
    "# Now we have lines for each of the canceled flights with the number of passengers.\n",
    "passengers = []\n",
    "for i in range(n_canceled):\n",
    "    L = data[line_index].strip().split(\" \")\n",
    "    line_index += 1\n",
    "    passengers.append(int(L[1]))\n",
    "\n",
    "print(passengers)"
   ]
  },
  {
   "cell_type": "markdown",
   "id": "b7b1452f-c1bb-41db-9401-6f090cb2ec39",
   "metadata": {},
   "source": [
    "So the $i$-th entry of `passengers` is the value $p_i$. We can similarly get the number of available seats $u_j$, for $j = 1, \\ldots, k$."
   ]
  },
  {
   "cell_type": "code",
   "execution_count": 16,
   "id": "65c2cf28-ee8d-4420-997a-eba7cbf8e16c",
   "metadata": {},
   "outputs": [
    {
     "name": "stdout",
     "output_type": "stream",
     "text": [
      "[50, 20, 25, 40]\n"
     ]
    }
   ],
   "source": [
    "# Next, we have the lines with the partner flights and the number of seats.\n",
    "seats = []\n",
    "for i in range(n_flights):\n",
    "    L = data[line_index].strip().split(\" \")\n",
    "    line_index += 1\n",
    "    seats.append(int(L[1]))\n",
    "\n",
    "print(seats)"
   ]
  },
  {
   "cell_type": "markdown",
   "id": "aa33ef72-6dc7-4ee4-8fb4-9e7f84b7cb93",
   "metadata": {},
   "source": [
    "Now comes the part where we use **dictionaries**. We will represent the nodes in our graph with the strings we have in the vector `vertices`. The idea now is that, given a **key** $u \\in V$, `out_neighbors[u]` will contain a list with all the vertices $v$ such that $(u, v) \\in A$. Similarly, given a **key** $u \\in V$, `in_neighbors[u]` will contain a list with all the vertices $v$ such that $(v, u) \\in A$. The next snippet initializes these dictionaries with empty lists."
   ]
  },
  {
   "cell_type": "code",
   "execution_count": 17,
   "id": "30e4cdde-6cad-46d8-b793-dc5a0e93b53d",
   "metadata": {},
   "outputs": [],
   "source": [
    "# To ease the implementation, we create dictionaries of out-neighbors and in-neighbors\n",
    "# and we initialize these with empty lists.\n",
    "out_neighbors = {}\n",
    "in_neighbors = {}\n",
    "for v in vertices:\n",
    "    out_neighbors[v] = []\n",
    "    in_neighbors[v] = []"
   ]
  },
  {
   "cell_type": "markdown",
   "id": "dee56709-aa1a-495e-a5e1-7e21ddec0d50",
   "metadata": {},
   "source": [
    "We also create a dictionary to store the **Gurobi flow variables**."
   ]
  },
  {
   "cell_type": "code",
   "execution_count": 18,
   "id": "bf6940b7-33cc-4b15-89e0-13c1ca061a01",
   "metadata": {},
   "outputs": [],
   "source": [
    "# We also have a dictionary to store the gurobi flow variables.\n",
    "flow = {}"
   ]
  },
  {
   "cell_type": "markdown",
   "id": "4b8996d4-3fe7-4ebe-b0c7-ec8464984a7b",
   "metadata": {},
   "source": [
    "Ok, let us now read the lines from our files that contain the **arcs**. While doing so, we will also populate the dictionaries we created before."
   ]
  },
  {
   "cell_type": "code",
   "execution_count": 19,
   "id": "e894e136-2abc-4241-8f3e-52b90668d228",
   "metadata": {},
   "outputs": [
    {
     "name": "stdout",
     "output_type": "stream",
     "text": [
      "out_neighbors: {'s0': ['f0'], 't0': [], 's1': ['f1'], 't1': [], 's2': ['f1'], 't2': [], 'f0': ['f1', 'f2'], 'f1': ['f2', 'f3'], 'f2': ['f3', 't1'], 'f3': ['t2', 't0']}\n",
      "in_neighbors: {'s0': [], 't0': ['f3'], 's1': [], 't1': ['f2'], 's2': [], 't2': ['f3'], 'f0': ['s0'], 'f1': ['f0', 's1', 's2'], 'f2': ['f0', 'f1'], 'f3': ['f1', 'f2']}\n"
     ]
    }
   ],
   "source": [
    "# Now we read the arcs.\n",
    "while line_index < len(data):\n",
    "    [u, v] = data[line_index].strip().split(\" \")\n",
    "    line_index += 1\n",
    "\n",
    "    # Create the Gurobi variables.\n",
    "    # Note that we use tuples as keys for the dictionary!\n",
    "    for i in range(n_canceled):\n",
    "        flow[(u, v, i)] = m.addVar(\n",
    "            lb=0,\n",
    "            ub=passengers[i],\n",
    "            vtype=GRB.INTEGER,\n",
    "            name=\"f_\" + u + \",\" + v + \"^\" + str(i),\n",
    "        )\n",
    "\n",
    "    # Add entries to the in/out neighbor dictionaries.\n",
    "    out_neighbors[u].append(v)\n",
    "    in_neighbors[v].append(u)\n",
    "\n",
    "print(\"out_neighbors: \" + str(out_neighbors))\n",
    "print(\"in_neighbors: \" + str(in_neighbors))"
   ]
  },
  {
   "cell_type": "markdown",
   "id": "6520b615-9d18-4468-b38c-f4378df316dc",
   "metadata": {},
   "source": [
    "And you should check with the previous figure that this seems to be ok. Now that we have the Gurobi variables and the data structures representing the graph (i.e., the dictionaries `out_neighbors` and `in_neighbors`), we are ready to write the code for the rest of our integer program."
   ]
  },
  {
   "cell_type": "code",
   "execution_count": 20,
   "id": "f7ae8da6-abd8-4dc4-8336-2d7f273ca7ad",
   "metadata": {},
   "outputs": [],
   "source": [
    "# Set objective function.\n",
    "obj_expr = 0\n",
    "for u in vertices:\n",
    "    if u[0] == \"s\":\n",
    "        for v in out_neighbors[u]:\n",
    "            i = int(u[1:])\n",
    "            obj_expr += flow[(u, v, i)]\n",
    "\n",
    "m.setObjective(obj_expr, GRB.MAXIMIZE)\n",
    "\n",
    "# Set flow conservation constraints.\n",
    "for i in range(n_canceled):\n",
    "    for u in vertices:\n",
    "        if u == \"s\" + str(i) or u == \"t\" + str(i):\n",
    "            continue\n",
    "\n",
    "        expr = 0\n",
    "        for v in in_neighbors[u]:\n",
    "            expr += flow[(v, u, i)]\n",
    "        for v in out_neighbors[u]:\n",
    "            expr -= flow[(u, v, i)]\n",
    "        m.addConstr(expr == 0.0)\n",
    "\n",
    "# Set seat capacity constraints.\n",
    "for j in range(n_flights):\n",
    "    expr = 0\n",
    "    for v in in_neighbors[\"f\" + str(j)]:\n",
    "        for i in range(n_canceled):\n",
    "            expr += flow[(v, \"f\" + str(j), i)]\n",
    "    m.addConstr(expr <= seats[j])"
   ]
  },
  {
   "cell_type": "markdown",
   "id": "c2de2c66-9638-4579-b974-2a2805b79f81",
   "metadata": {},
   "source": [
    "Before we solve this model, I want to point out that, one way of debugging your model is to just print out the Gurobi expressions as follows. (Recall we call `update()` just so that we get a pretty printing.)"
   ]
  },
  {
   "cell_type": "code",
   "execution_count": 21,
   "id": "7aab554d-a1e7-4bc1-a400-0313021d630c",
   "metadata": {},
   "outputs": [
    {
     "name": "stdout",
     "output_type": "stream",
     "text": [
      "f_s0,f0^0 + f_s1,f1^1 + f_s2,f1^2\n"
     ]
    }
   ],
   "source": [
    "m.update()\n",
    "print(obj_expr)"
   ]
  },
  {
   "cell_type": "markdown",
   "id": "61aae3b4-1221-4e7e-9610-bb60ffa0f34f",
   "metadata": {},
   "source": [
    "However, an alternative that might be better is to just ask Gurobi to write the model as an `.lp` file. This can be done easily."
   ]
  },
  {
   "cell_type": "code",
   "execution_count": 22,
   "id": "762a644b-8488-4b7f-b92c-704a96b13d36",
   "metadata": {},
   "outputs": [],
   "source": [
    "m.write(\"test.lp\")"
   ]
  },
  {
   "cell_type": "markdown",
   "id": "6c46ee66-81b3-4e90-8159-4c0b2eb8ca03",
   "metadata": {},
   "source": [
    "And I suggest you to take a look at this file. We will close this tutorial solving the model and getting an optimal solution."
   ]
  },
  {
   "cell_type": "code",
   "execution_count": 23,
   "id": "d587e820-a0d8-4dfa-917b-6a224c0187e6",
   "metadata": {},
   "outputs": [
    {
     "name": "stdout",
     "output_type": "stream",
     "text": [
      "Gurobi Optimizer version 10.0.0 build v10.0.0rc2 (linux64)\n",
      "\n",
      "CPU model: Intel(R) Core(TM) i7-4720HQ CPU @ 2.60GHz, instruction set [SSE2|AVX|AVX2]\n",
      "Thread count: 4 physical cores, 8 logical processors, using up to 8 threads\n",
      "\n",
      "Optimize a model with 28 rows, 33 columns and 84 nonzeros\n",
      "Model fingerprint: 0x1974f8c4\n",
      "Variable types: 0 continuous, 33 integer (0 binary)\n",
      "Coefficient statistics:\n",
      "  Matrix range     [1e+00, 1e+00]\n",
      "  Objective range  [1e+00, 1e+00]\n",
      "  Bounds range     [1e+01, 3e+01]\n",
      "  RHS range        [2e+01, 5e+01]\n",
      "Found heuristic solution: objective -0.0000000\n",
      "Presolve removed 25 rows and 30 columns\n",
      "Presolve time: 0.00s\n",
      "Presolved: 3 rows, 3 columns, 6 nonzeros\n",
      "Found heuristic solution: objective 40.0000000\n",
      "Variable types: 0 continuous, 3 integer (0 binary)\n",
      "\n",
      "Root relaxation: objective 4.250000e+01, 2 iterations, 0.00 seconds (0.00 work units)\n",
      "\n",
      "    Nodes    |    Current Node    |     Objective Bounds      |     Work\n",
      " Expl Unexpl |  Obj  Depth IntInf | Incumbent    BestBd   Gap | It/Node Time\n",
      "\n",
      "     0     0   42.50000    0    3   40.00000   42.50000  6.25%     -    0s\n",
      "H    0     0                      42.0000000   42.50000  1.19%     -    0s\n",
      "     0     0   42.50000    0    3   42.00000   42.50000  1.19%     -    0s\n",
      "\n",
      "Explored 1 nodes (2 simplex iterations) in 0.02 seconds (0.00 work units)\n",
      "Thread count was 8 (of 8 available processors)\n",
      "\n",
      "Solution count 3: 42 40 -0 \n",
      "\n",
      "Optimal solution found (tolerance 1.00e-04)\n",
      "Best objective 4.200000000000e+01, best bound 4.200000000000e+01, gap 0.0000%\n",
      "Optimal solution found!\n",
      "Objective value: 42.0\n",
      "f_f0,f2^0 = 22.0\n",
      "f_f1,f2^1 = 2.0\n",
      "f_f1,f3^2 = 18.0\n",
      "f_f2,f3^0 = 22.0\n",
      "f_s0,f0^0 = 22.0\n",
      "f_s1,f1^1 = 2.0\n",
      "f_s2,f1^2 = 18.0\n",
      "f_f2,t1^1 = 2.0\n",
      "f_f3,t2^2 = 18.0\n",
      "f_f3,t0^0 = 22.0\n"
     ]
    }
   ],
   "source": [
    "m.optimize()\n",
    "\n",
    "if m.status == GRB.OPTIMAL:\n",
    "    print(\"Optimal solution found!\")\n",
    "    print(\"Objective value:\", m.objVal)\n",
    "    for v in m.getVars():\n",
    "        if v.x != 0:\n",
    "            print(v.varName, \"=\", v.x)\n",
    "            \n",
    "else:\n",
    "    print(\"Error: Optimal solution was not found.\")"
   ]
  }
 ],
 "metadata": {
  "kernelspec": {
   "display_name": "Python 3 (ipykernel)",
   "language": "python",
   "name": "python3"
  },
  "language_info": {
   "codemirror_mode": {
    "name": "ipython",
    "version": 3
   },
   "file_extension": ".py",
   "mimetype": "text/x-python",
   "name": "python",
   "nbconvert_exporter": "python",
   "pygments_lexer": "ipython3",
   "version": "3.8.10"
  }
 },
 "nbformat": 4,
 "nbformat_minor": 5
}
