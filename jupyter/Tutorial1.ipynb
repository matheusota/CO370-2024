{
 "cells": [
  {
   "cell_type": "markdown",
   "id": "30729997-2735-4ec3-b017-e980413c2e79",
   "metadata": {},
   "source": [
    "# Installing Python and Gurobi\n",
    "\n",
    "## Python and PIP\n",
    "https://realpython.com/installing-python/\n",
    "\n",
    "## Gurobi\n",
    "* Register in Gurobi as an Academic user: https://www.gurobi.com\n",
    "* Get a free academic license: https://support.gurobi.com/hc/en-us/articles/360040541251-How-do-I-obtain-a-free-academic-license\n",
    "* Install Gurobi.\n",
    "    * Windows: https://www.youtube.com/watch?v=z7t0p5J9YcQ\n",
    "    * Linux: https://www.youtube.com/watch?v=OYuOKXPJ5PI\n",
    "    * MacOS: https://www.youtube.com/watch?v=dcFstZl5Va4\n",
    "* Install Gurobi Python API: https://support.gurobi.com/hc/en-us/articles/360044290292-How-do-I-install-Gurobi-for-Python\n",
    "    * ```\n",
    "      python -m pip install gurobipy\n",
    "      ```"
   ]
  },
  {
   "cell_type": "markdown",
   "id": "134a09ac-3160-4b47-8d6c-6f613cfbe407",
   "metadata": {},
   "source": [
    "# Simple Python+Gurobi example"
   ]
  },
  {
   "cell_type": "markdown",
   "id": "13501655-880e-48cd-843d-30336bcb5346",
   "metadata": {},
   "source": [
    "We will now use Gurobi Python API to solve the following simple integer linear program.\n",
    "$$\n",
    "\\begin{align}\n",
    "\\text{max} &~~2 x_1 + 4 x_2 \\\\\n",
    "\\text{s.t.} &~~3 x_1 + 2 x_2 \\leq 6, \\\\\n",
    "&~~x_1 + 5 x_2 \\leq 5, \\\\\n",
    "&~~x_1 \\in \\mathbb{Z}, \\\\\n",
    "&~~x_1 \\geq 0, \\\\\n",
    "&~~x_2 \\geq 0.\n",
    "\\end{align}\n",
    "$$"
   ]
  },
  {
   "cell_type": "code",
   "execution_count": 1,
   "id": "88a6ab6e-5222-4d62-8a70-0b521a884813",
   "metadata": {},
   "outputs": [
    {
     "name": "stdout",
     "output_type": "stream",
     "text": [
      "Set parameter Username\n",
      "Academic license - for non-commercial use only - expires 2025-05-16\n"
     ]
    }
   ],
   "source": [
    "# First we import Gurobi library and create a Gurobi model.\n",
    "import gurobipy as gp\n",
    "from gurobipy import GRB\n",
    "m = gp.Model(\"basic\")"
   ]
  },
  {
   "cell_type": "code",
   "execution_count": 2,
   "id": "16f34e34-1c4c-4f4c-9f74-c37598961bd9",
   "metadata": {},
   "outputs": [],
   "source": [
    "# Next, we create the variables.\n",
    "# NOTE: By default all variables have LB = 0, UB = infty (float('inf'))\n",
    "# and are of type GRB.CONTINUOUS. You may change these parameters (they are optional)\n",
    "x1 = m.addVar( lb = 0.0, ub = float('inf') , vtype = GRB.INTEGER, name = \"x1\" )\n",
    "x2 = m.addVar( vtype = GRB.CONTINUOUS, name = \"x2\"  )"
   ]
  },
  {
   "cell_type": "code",
   "execution_count": 3,
   "id": "1c4636e5-dbd2-43fb-9bab-735f0c177e17",
   "metadata": {},
   "outputs": [],
   "source": [
    "# Set the objective function to maximize 2x1 + 4x2.\n",
    "m.setObjective( 2 * x1 + 4 * x2, GRB.MAXIMIZE )"
   ]
  },
  {
   "cell_type": "code",
   "execution_count": 4,
   "id": "0ab81053-26bb-4006-b01d-3b2220c78aad",
   "metadata": {},
   "outputs": [
    {
     "data": {
      "text/plain": [
       "<gurobi.Constr *Awaiting Model Update*>"
      ]
     },
     "execution_count": 4,
     "metadata": {},
     "output_type": "execute_result"
    }
   ],
   "source": [
    "# Add the two constraints in the model.\n",
    "m.addConstr( 3 * x1 + 2 * x2 <= 6, \"c1\")\n",
    "m.addConstr( x1 + 5 * x2 <= 5, \"c2\" )"
   ]
  },
  {
   "cell_type": "code",
   "execution_count": 5,
   "id": "c4acb925-dec8-490f-988e-2cc303a41522",
   "metadata": {},
   "outputs": [
    {
     "name": "stdout",
     "output_type": "stream",
     "text": [
      "Gurobi Optimizer version 10.0.0 build v10.0.0rc2 (linux64)\n",
      "\n",
      "CPU model: Intel(R) Core(TM) i7-4720HQ CPU @ 2.60GHz, instruction set [SSE2|AVX|AVX2]\n",
      "Thread count: 4 physical cores, 8 logical processors, using up to 8 threads\n",
      "\n",
      "Optimize a model with 2 rows, 2 columns and 4 nonzeros\n",
      "Model fingerprint: 0x167672fe\n",
      "Variable types: 1 continuous, 1 integer (0 binary)\n",
      "Coefficient statistics:\n",
      "  Matrix range     [1e+00, 5e+00]\n",
      "  Objective range  [2e+00, 4e+00]\n",
      "  Bounds range     [0e+00, 0e+00]\n",
      "  RHS range        [5e+00, 6e+00]\n",
      "Found heuristic solution: objective 4.0000000\n",
      "Presolve time: 0.00s\n",
      "Presolved: 2 rows, 2 columns, 4 nonzeros\n",
      "Variable types: 0 continuous, 2 integer (0 binary)\n",
      "\n",
      "Root relaxation: objective 5.200000e+00, 0 iterations, 0.00 seconds (0.00 work units)\n",
      "\n",
      "    Nodes    |    Current Node    |     Objective Bounds      |     Work\n",
      " Expl Unexpl |  Obj  Depth IntInf | Incumbent    BestBd   Gap | It/Node Time\n",
      "\n",
      "*    0     0               0       5.2000000    5.20000  0.00%     -    0s\n",
      "\n",
      "Explored 1 nodes (0 simplex iterations) in 0.01 seconds (0.00 work units)\n",
      "Thread count was 8 (of 8 available processors)\n",
      "\n",
      "Solution count 2: 5.2 4 \n",
      "\n",
      "Optimal solution found (tolerance 1.00e-04)\n",
      "Best objective 5.200000000000e+00, best bound 5.200000000000e+00, gap 0.0000%\n"
     ]
    }
   ],
   "source": [
    "# Solve the model!\n",
    "m.optimize()"
   ]
  },
  {
   "cell_type": "code",
   "execution_count": 6,
   "id": "c85d126b-3c3e-46cf-9c70-f9e8276cfcb7",
   "metadata": {},
   "outputs": [
    {
     "name": "stdout",
     "output_type": "stream",
     "text": [
      "True\n"
     ]
    }
   ],
   "source": [
    "# Check the optimization status (see https://www.gurobi.com/documentation/current/refman/optimization_status_codes.html).\n",
    "print(m.status == GRB.OPTIMAL)"
   ]
  },
  {
   "cell_type": "code",
   "execution_count": 7,
   "id": "ca7a8704-cb97-478d-874e-83deb30899a3",
   "metadata": {},
   "outputs": [
    {
     "name": "stdout",
     "output_type": "stream",
     "text": [
      "Optimal cost: 5.2\n"
     ]
    }
   ],
   "source": [
    "# Since the status is `GRB.OPTIMAL`, we can query the optimal solution found by Gurobi.\n",
    "# To get the optimal objective value we use the attribute `objVal` of the Gurobi model.\n",
    "print(\"Optimal cost: \" + str(m.objVal))"
   ]
  },
  {
   "cell_type": "code",
   "execution_count": 8,
   "id": "1d722ac1-6261-4052-b590-341914319a94",
   "metadata": {},
   "outputs": [
    {
     "name": "stdout",
     "output_type": "stream",
     "text": [
      "x1: 1.0\n",
      "x2: 0.8\n"
     ]
    }
   ],
   "source": [
    "# To get the optimal variable values found by Gurobi, we use the attribute `X` of the variables.\n",
    "print(\"x1: \" + str(x1.X))\n",
    "print(\"x2: \" + str(x2.X))"
   ]
  },
  {
   "cell_type": "code",
   "execution_count": 9,
   "id": "bfe0d907-dd44-4b17-bf34-ee4eda39ed23",
   "metadata": {},
   "outputs": [
    {
     "name": "stdout",
     "output_type": "stream",
     "text": [
      "5.2\n"
     ]
    }
   ],
   "source": [
    "# And we can check that indeed, this solution matches the objective value we found with `m.objVal`.\n",
    "print(2.0 * x1.X + 4.0 * x2.X)"
   ]
  }
 ],
 "metadata": {
  "kernelspec": {
   "display_name": "Python 3 (ipykernel)",
   "language": "python",
   "name": "python3"
  },
  "language_info": {
   "codemirror_mode": {
    "name": "ipython",
    "version": 3
   },
   "file_extension": ".py",
   "mimetype": "text/x-python",
   "name": "python",
   "nbconvert_exporter": "python",
   "pygments_lexer": "ipython3",
   "version": "3.8.10"
  }
 },
 "nbformat": 4,
 "nbformat_minor": 5
}
