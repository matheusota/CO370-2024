{
 "cells": [
  {
   "cell_type": "markdown",
   "id": "30729997-2735-4ec3-b017-e980413c2e79",
   "metadata": {},
   "source": [
    "# Tutorial 1\n",
    "# Installing Python and Gurobi\n",
    "\n",
    "## Python and PIP\n",
    "https://realpython.com/installing-python/\n",
    "\n",
    "## Gurobi\n",
    "* Register in Gurobi as an Academic user: https://www.gurobi.com\n",
    "* Get a free academic license: https://support.gurobi.com/hc/en-us/articles/360040541251-How-do-I-obtain-a-free-academic-license\n",
    "    * Note: To download the license and install it you need to be on the campus network. Due to some tunnelling issues with the Cisco VPN, it seems that using UWaterloo VPN will not work, so I believe you can only do this if you are on campus.\n",
    "* Install Gurobi.\n",
    "    * Windows: https://www.youtube.com/watch?v=z7t0p5J9YcQ\n",
    "    * Linux: https://www.youtube.com/watch?v=OYuOKXPJ5PI\n",
    "    * MacOS: https://www.youtube.com/watch?v=dcFstZl5Va4\n",
    "* Install Gurobi Python API: https://support.gurobi.com/hc/en-us/articles/360044290292-How-do-I-install-Gurobi-for-Python\n",
    "    * To do this, either run\n",
    "      ```\n",
    "      python -m pip install gurobipy\n",
    "      ```\n",
    "      or\n",
    "      ```\n",
    "      python3 -m pip install gurobipy\n",
    "      ```\n",
    "* To check that Gurobi was installed correctly, run ```gurobi_cl``` in the terminal. If everything is working fine the output should be something like\n",
    "    ```\n",
    "    Set parameter Username\n",
    "    Set parameter LogFile to value \"gurobi.log\"\n",
    "    Using license file /home/matheus/Programs/gurobi1102/linux64/gurobi.lic\n",
    "    Academic license - for non-commercial use only - expires 2025-05-16\n",
    "    Usage: gurobi_cl [--command]* [param=value]* filename\n",
    "    Type 'gurobi_cl --help' for more information.\n",
    "    ```"
   ]
  },
  {
   "cell_type": "markdown",
   "id": "9528eeb1-b58b-4ee2-bbb6-a5ff92d3c632",
   "metadata": {},
   "source": [
    "# Running Python and Jupyter Notebook\n",
    "To run a Python script (a file with extension ```.py```), just type in the terminal ```python script.py``` or ```python3 script.py```. To test this, you can download the file ```basic.py``` from here (https://github.com/matheusota/CO370-2024/tree/main/code) and try running it. To solve the exercises in this Tutorial you are expected to write your own Python scripts and run them.\n",
    "\n",
    "However, to make the presentation easier, this Tutorial itself was written with Jupyter notebook (https://jupyter.org). You are **not** required to know Jupyter notebook for this course, I'm just using it so that you can see the code and its outputs in a way that is easy to read and interpret."
   ]
  },
  {
   "cell_type": "markdown",
   "id": "450b93ac-6ba4-4d20-9f83-27d0da1f3c61",
   "metadata": {},
   "source": [
    "# Python types (strings, integers and floats)\n",
    "Before we write at a Gurobi example, let us just take a look at the following snippets."
   ]
  },
  {
   "cell_type": "code",
   "execution_count": 1,
   "id": "16b7a6e7-df65-49c3-9a2a-90b9b55cdb1d",
   "metadata": {},
   "outputs": [
    {
     "name": "stdout",
     "output_type": "stream",
     "text": [
      "<class 'str'>\n",
      "<class 'int'>\n",
      "<class 'float'>\n"
     ]
    }
   ],
   "source": [
    "# String, integer and float variables\n",
    "stringVar = \"123\"\n",
    "integerVar = 123\n",
    "floatVar = 123.0\n",
    "print(type(stringVar))\n",
    "print(type(integerVar))\n",
    "print(type(floatVar))"
   ]
  },
  {
   "cell_type": "code",
   "execution_count": 2,
   "id": "90cbbe93-1c30-46d7-a95c-b74ac7ea4a87",
   "metadata": {},
   "outputs": [
    {
     "name": "stdout",
     "output_type": "stream",
     "text": [
      "123123\n"
     ]
    }
   ],
   "source": [
    "# Adding strings is equivalent to concatenating them\n",
    "print(stringVar + \"123\")"
   ]
  },
  {
   "cell_type": "code",
   "execution_count": 3,
   "id": "db0d0d88-9683-47ec-86f3-baff6c418f03",
   "metadata": {},
   "outputs": [
    {
     "name": "stdout",
     "output_type": "stream",
     "text": [
      "246.0\n"
     ]
    }
   ],
   "source": [
    "# Adding floats (or integers) is as you expect\n",
    "print(floatVar + 123.0)"
   ]
  },
  {
   "cell_type": "code",
   "execution_count": 4,
   "id": "ab7f8011-47c9-4543-adb4-8d2729ee1099",
   "metadata": {},
   "outputs": [
    {
     "ename": "TypeError",
     "evalue": "can only concatenate str (not \"float\") to str",
     "output_type": "error",
     "traceback": [
      "\u001b[0;31m---------------------------------------------------------------------------\u001b[0m",
      "\u001b[0;31mTypeError\u001b[0m                                 Traceback (most recent call last)",
      "Cell \u001b[0;32mIn[4], line 2\u001b[0m\n\u001b[1;32m      1\u001b[0m \u001b[38;5;66;03m# But you cannot add strings and floats!\u001b[39;00m\n\u001b[0;32m----> 2\u001b[0m \u001b[38;5;28mprint\u001b[39m(\u001b[43mstringVar\u001b[49m\u001b[43m \u001b[49m\u001b[38;5;241;43m+\u001b[39;49m\u001b[43m \u001b[49m\u001b[38;5;241;43m123.0\u001b[39;49m)\n",
      "\u001b[0;31mTypeError\u001b[0m: can only concatenate str (not \"float\") to str"
     ]
    }
   ],
   "source": [
    "# But you cannot add strings and floats!\n",
    "print(stringVar + 123.0)"
   ]
  },
  {
   "cell_type": "code",
   "execution_count": 5,
   "id": "1c58bfc3-75d8-4418-8ef5-012c671f54d3",
   "metadata": {},
   "outputs": [
    {
     "name": "stdout",
     "output_type": "stream",
     "text": [
      "246.0\n",
      "123123.0\n"
     ]
    }
   ],
   "source": [
    "# We can easily convert between these different types using the functions `str`, `int` and `float`\n",
    "print(float(stringVar) + 123.0)\n",
    "print(stringVar + str(123.0))"
   ]
  },
  {
   "cell_type": "markdown",
   "id": "134a09ac-3160-4b47-8d6c-6f613cfbe407",
   "metadata": {},
   "source": [
    "# Simple Python+Gurobi example"
   ]
  },
  {
   "cell_type": "markdown",
   "id": "13501655-880e-48cd-843d-30336bcb5346",
   "metadata": {},
   "source": [
    "We will now use Gurobi Python API to solve the following simple linear program.\n",
    "$$\n",
    "\\begin{align}\n",
    "\\text{max} &~~10 x_1 + 4 x_2 \\\\\n",
    "\\text{s.t.} &~~3 x_1 + 2 x_2 \\leq 6, \\\\\n",
    "&~~x_1 + 5 x_2 \\leq 5, \\\\\n",
    "&~~x_1 \\geq 0, \\\\\n",
    "&~~x_2 \\geq 0.\n",
    "\\end{align}\n",
    "$$"
   ]
  },
  {
   "cell_type": "code",
   "execution_count": 6,
   "id": "88a6ab6e-5222-4d62-8a70-0b521a884813",
   "metadata": {},
   "outputs": [
    {
     "name": "stdout",
     "output_type": "stream",
     "text": [
      "Set parameter Username\n",
      "Academic license - for non-commercial use only - expires 2025-05-16\n",
      "<class 'gurobipy.Model'>\n"
     ]
    }
   ],
   "source": [
    "# First we import Gurobi library and create a Gurobi model.\n",
    "import gurobipy as gp\n",
    "from gurobipy import GRB\n",
    "m = gp.Model(\"basic\")\n",
    "\n",
    "# `m` is an object of the type Gurobi model.\n",
    "print(type(m))"
   ]
  },
  {
   "cell_type": "code",
   "execution_count": 7,
   "id": "16f34e34-1c4c-4f4c-9f74-c37598961bd9",
   "metadata": {},
   "outputs": [
    {
     "name": "stdout",
     "output_type": "stream",
     "text": [
      "<class 'gurobipy.Var'>\n",
      "<class 'gurobipy.Var'>\n"
     ]
    }
   ],
   "source": [
    "# Next, we create the variables.\n",
    "# NOTE: By default all variables have LB = 0, UB = infty (float('inf'))\n",
    "# and are of type GRB.CONTINUOUS. You may change these parameters (they are optional)\n",
    "x1 = m.addVar( lb = 0.0, ub = float('inf') , vtype = GRB.CONTINUOUS, name = \"x1\" )\n",
    "x2 = m.addVar( vtype = GRB.CONTINUOUS, name = \"x2\"  )\n",
    "\n",
    "# x1 and x2 are objects of the type Gurobi variable.\n",
    "print(type(x1))\n",
    "print(type(x2))"
   ]
  },
  {
   "cell_type": "code",
   "execution_count": 8,
   "id": "1c4636e5-dbd2-43fb-9bab-735f0c177e17",
   "metadata": {},
   "outputs": [],
   "source": [
    "# Set the objective function to maximize 2 * x1 + 4 * x2.\n",
    "m.setObjective( 10 * x1 + 4 * x2, GRB.MAXIMIZE )"
   ]
  },
  {
   "cell_type": "code",
   "execution_count": 9,
   "id": "0ab81053-26bb-4006-b01d-3b2220c78aad",
   "metadata": {},
   "outputs": [
    {
     "name": "stdout",
     "output_type": "stream",
     "text": [
      "<class 'gurobipy.Constr'>\n",
      "<class 'gurobipy.Constr'>\n"
     ]
    }
   ],
   "source": [
    "# Add the two constraints in the model. These functions return objects of the type Gurobi constraint.\n",
    "c1 = m.addConstr( 3 * x1 + 2 * x2 <= 6, \"c1\")\n",
    "c2 = m.addConstr( x1 + 5 * x2 <= 5, \"c2\" )\n",
    "print(type(c1))\n",
    "print(type(c2))"
   ]
  },
  {
   "cell_type": "code",
   "execution_count": 10,
   "id": "c4acb925-dec8-490f-988e-2cc303a41522",
   "metadata": {},
   "outputs": [
    {
     "name": "stdout",
     "output_type": "stream",
     "text": [
      "Gurobi Optimizer version 10.0.0 build v10.0.0rc2 (linux64)\n",
      "\n",
      "CPU model: Intel(R) Core(TM) i7-4720HQ CPU @ 2.60GHz, instruction set [SSE2|AVX|AVX2]\n",
      "Thread count: 4 physical cores, 8 logical processors, using up to 8 threads\n",
      "\n",
      "Optimize a model with 2 rows, 2 columns and 4 nonzeros\n",
      "Model fingerprint: 0x03cda5ee\n",
      "Coefficient statistics:\n",
      "  Matrix range     [1e+00, 5e+00]\n",
      "  Objective range  [4e+00, 1e+01]\n",
      "  Bounds range     [0e+00, 0e+00]\n",
      "  RHS range        [5e+00, 6e+00]\n",
      "Presolve time: 0.08s\n",
      "Presolved: 2 rows, 2 columns, 4 nonzeros\n",
      "\n",
      "Iteration    Objective       Primal Inf.    Dual Inf.      Time\n",
      "       0    1.4000000e+31   2.000000e+30   1.400000e+01      0s\n",
      "       1    2.0000000e+01   0.000000e+00   0.000000e+00      0s\n",
      "\n",
      "Solved in 1 iterations and 0.11 seconds (0.00 work units)\n",
      "Optimal objective  2.000000000e+01\n"
     ]
    }
   ],
   "source": [
    "# Solve the model!\n",
    "m.optimize()"
   ]
  },
  {
   "cell_type": "code",
   "execution_count": 11,
   "id": "c85d126b-3c3e-46cf-9c70-f9e8276cfcb7",
   "metadata": {},
   "outputs": [
    {
     "name": "stdout",
     "output_type": "stream",
     "text": [
      "True\n"
     ]
    }
   ],
   "source": [
    "# Check the optimization status (see https://www.gurobi.com/documentation/current/refman/optimization_status_codes.html).\n",
    "print(m.status == GRB.OPTIMAL)"
   ]
  },
  {
   "cell_type": "code",
   "execution_count": 12,
   "id": "ca7a8704-cb97-478d-874e-83deb30899a3",
   "metadata": {},
   "outputs": [
    {
     "name": "stdout",
     "output_type": "stream",
     "text": [
      "Optimal cost: 20.0\n"
     ]
    }
   ],
   "source": [
    "# Since the status is `GRB.OPTIMAL`, we can query the optimal solution found by Gurobi.\n",
    "# To get the optimal objective value we use the attribute `objVal` of the Gurobi model.\n",
    "print(\"Optimal cost: \" + str(m.objVal))"
   ]
  },
  {
   "cell_type": "code",
   "execution_count": 13,
   "id": "1d722ac1-6261-4052-b590-341914319a94",
   "metadata": {},
   "outputs": [
    {
     "name": "stdout",
     "output_type": "stream",
     "text": [
      "x1: 2.0\n",
      "x2: 0.0\n"
     ]
    }
   ],
   "source": [
    "# To get the optimal variable values found by Gurobi, we use the attribute `X` of the variables.\n",
    "print(\"x1: \" + str(x1.X))\n",
    "print(\"x2: \" + str(x2.X))"
   ]
  },
  {
   "cell_type": "code",
   "execution_count": 14,
   "id": "bfe0d907-dd44-4b17-bf34-ee4eda39ed23",
   "metadata": {},
   "outputs": [
    {
     "name": "stdout",
     "output_type": "stream",
     "text": [
      "20.0\n"
     ]
    }
   ],
   "source": [
    "# And we can check that indeed, this solution matches the objective value we found with `m.objVal`.\n",
    "print(10.0 * x1.X + 4.0 * x2.X)"
   ]
  },
  {
   "cell_type": "code",
   "execution_count": 15,
   "id": "c3132cd9-8bb1-4d73-80d2-7321bf10e571",
   "metadata": {},
   "outputs": [
    {
     "name": "stdout",
     "output_type": "stream",
     "text": [
      "Dual of c1: 3.3333333333333335\n",
      "Dual of c2: 0.0\n",
      "Slack of c1: 0.0\n",
      "Slack of c2: 3.0\n"
     ]
    }
   ],
   "source": [
    "# We can also query the dual variables and slacks associated with the constraints.\n",
    "print(\"Dual of c1: \" + str(c1.Pi))\n",
    "print(\"Dual of c2: \" + str(c2.Pi))\n",
    "print(\"Slack of c1: \" + str(c1.Slack))\n",
    "print(\"Slack of c2: \" + str(c2.Slack))"
   ]
  },
  {
   "cell_type": "markdown",
   "id": "09ce8d04-3c06-4eba-b0ef-f4b9b8f94907",
   "metadata": {},
   "source": [
    "# Exercises\n",
    "I believe that the best way of learning how to use Gurobi's Python API is to look at the examples in the website (https://www.gurobi.com/documentation/current/examples/python_examples.html) and to read Gurobi's documentation. The following exercises were made so that you can practice writing your own Gurobi models and also to somewhat force you to look at the relevant documentation.\n",
    "\n",
    "## Exercise 1\n",
    "Write a Gurobi Python script that solves the following integer programming model.\n",
    "$$\n",
    "\\begin{align}\n",
    "\\text{max} &~~10 x_1 + 5 x_2 + 3 x_3 \\\\\n",
    "\\text{s.t.} &~~x_1 + x_2 + x_3 \\leq 1.5, \\\\\n",
    "&~~x_1, x_2, x_3 \\in \\mathbb{Z}, \\\\\n",
    "&~~x_1, x_2, x_3 \\geq 0.\n",
    "\\end{align}\n",
    "$$\n",
    "Note that the optimal solution to this problem is $x_1 = 1, x_2 = 0, x_3 = 0$ with objective value 10. You should check that your script returns this solution.\n",
    "\n",
    "Hint: Look at this page of the documentation: https://www.gurobi.com/documentation/current/refman/py_model_addvar.html\n",
    "\n",
    "## Exercise 2\n",
    "Write a Gurobi Python script that solves the following linear programming model.\n",
    "$$\n",
    "\\begin{align}\n",
    "\\text{max} &~~2 x_1 + 4 x_2 \\\\\n",
    "\\text{s.t.} &~~3 x_1 + 2 x_2 \\leq 6, \\\\\n",
    "&~~6 x_1 + 4 x_2 \\geq 13, \\\\\n",
    "&~~x_1 \\geq 0, \\\\\n",
    "&~~x_2 \\geq 0.\n",
    "\\end{align}\n",
    "$$\n",
    "By carefully looking at the constraints, we can see that this problem is infeasible. Check in the Gurobi documentation (https://www.gurobi.com/documentation/current/refman/optimization_status_codes.html) what is the \"Status Code\" for infeasible models and confirm that your script also returns this same Status Code. "
   ]
  }
 ],
 "metadata": {
  "kernelspec": {
   "display_name": "Python 3 (ipykernel)",
   "language": "python",
   "name": "python3"
  },
  "language_info": {
   "codemirror_mode": {
    "name": "ipython",
    "version": 3
   },
   "file_extension": ".py",
   "mimetype": "text/x-python",
   "name": "python",
   "nbconvert_exporter": "python",
   "pygments_lexer": "ipython3",
   "version": "3.8.10"
  }
 },
 "nbformat": 4,
 "nbformat_minor": 5
}
