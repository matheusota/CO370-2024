{
 "cells": [
  {
   "cell_type": "markdown",
   "id": "ec212376-1925-4fba-b6f4-bff73fb9de25",
   "metadata": {},
   "source": [
    "# Tutorial 2\n",
    "\n",
    "## Python Lists and Files\n",
    "\n",
    "### Lists\n",
    "\n",
    "A list is similar to what people call an **array** in other languages. It is easier to look at some examples."
   ]
  },
  {
   "cell_type": "code",
   "execution_count": 1,
   "id": "10acb668-37b9-4255-88aa-51cd9fa19dcf",
   "metadata": {},
   "outputs": [
    {
     "name": "stdout",
     "output_type": "stream",
     "text": [
      "<class 'list'>\n",
      "<class 'list'>\n",
      "<class 'list'>\n",
      "1\n",
      "my\n",
      "5\n"
     ]
    }
   ],
   "source": [
    "my_list1 = [1, 2, 3]\n",
    "my_list2 = [\"my\", \"cat\"]\n",
    "my_list3 = [1, \"my\", 2, \"cat\", 3]\n",
    "print(type(my_list1))\n",
    "print(type(my_list2))\n",
    "print(type(my_list3))\n",
    "print(my_list1[0])\n",
    "print(my_list2[0])\n",
    "print(len(my_list3))"
   ]
  },
  {
   "cell_type": "markdown",
   "id": "00240759-c02f-4b90-8857-ff9adb2a534a",
   "metadata": {},
   "source": [
    "The function `len` returns the size of a list. Note that lists can contain different types of objects. So `my_list1` has only numbers, `my_list2` has only strings, while `my_list3` has a mixture of both. We can also create list of lists."
   ]
  },
  {
   "cell_type": "code",
   "execution_count": 2,
   "id": "b1e31121-cb1d-4f7e-9ded-e30693621020",
   "metadata": {},
   "outputs": [
    {
     "name": "stdout",
     "output_type": "stream",
     "text": [
      "[[1, 2, 3], ['my', 'cat'], [1, 'my', 2, 'cat', 3]]\n",
      "['my', 'cat']\n"
     ]
    }
   ],
   "source": [
    "list_of_lists = [my_list1, my_list2, my_list3]\n",
    "print(list_of_lists)\n",
    "print(list_of_lists[1])"
   ]
  },
  {
   "cell_type": "markdown",
   "id": "79899c49-fc88-47aa-b06e-04e76c77959b",
   "metadata": {},
   "source": [
    "We can also create an empty list and add elements to it with the `append` method."
   ]
  },
  {
   "cell_type": "code",
   "execution_count": 3,
   "id": "d0bc4cef-ef2c-49a6-b932-40b0ea21dea5",
   "metadata": {},
   "outputs": [
    {
     "name": "stdout",
     "output_type": "stream",
     "text": [
      "[1, 2, 3]\n"
     ]
    }
   ],
   "source": [
    "L = []\n",
    "L.append(1)\n",
    "L.append(2)\n",
    "L.append(L[0] + L[1])\n",
    "print(L)"
   ]
  },
  {
   "cell_type": "markdown",
   "id": "b4ab887d-e74d-4b57-8d7d-c3f73e3dd736",
   "metadata": {},
   "source": [
    "Finally, to iterate through a list, we can just write a simple `for` loop."
   ]
  },
  {
   "cell_type": "code",
   "execution_count": 4,
   "id": "1411a84a-3a2e-4c55-b04f-d1313ba9244f",
   "metadata": {},
   "outputs": [
    {
     "name": "stdout",
     "output_type": "stream",
     "text": [
      "Element 1 is in the list L.\n",
      "Element 2 is in the list L.\n",
      "Element 3 is in the list L.\n"
     ]
    }
   ],
   "source": [
    "for x in L:\n",
    "    print(\"Element \" + str(x) + \" is in the list L.\")"
   ]
  },
  {
   "cell_type": "markdown",
   "id": "95fcf6c5-f5fd-4f6e-8238-9cc348319335",
   "metadata": {},
   "source": [
    "### Splitting Strings\n",
    "\n",
    "Suppose that we are given a `.csv` file and we want to extract data from it with Python. The extension **csv** stands for \"Comma-separated values\", so a line of this file might look like this."
   ]
  },
  {
   "cell_type": "code",
   "execution_count": 5,
   "id": "40054f3c-19ff-4382-85d7-1e95312bf7a1",
   "metadata": {},
   "outputs": [],
   "source": [
    "line = \"Student1,19,CO370,99\""
   ]
  },
  {
   "cell_type": "markdown",
   "id": "1634ea9e-c2d8-4f72-9ef6-809a5e36b54a",
   "metadata": {},
   "source": [
    "Which represents the student name (Student1), the age (19), the course (CO370) and the grade in the exam (99). Now from the string `line` how can we extract each of the student data? One way is to use the `split` method."
   ]
  },
  {
   "cell_type": "code",
   "execution_count": 6,
   "id": "bae3ac83-701f-4b47-b910-beec7913c386",
   "metadata": {},
   "outputs": [
    {
     "name": "stdout",
     "output_type": "stream",
     "text": [
      "<class 'list'>\n",
      "['Student1', '19', 'CO370', '99']\n"
     ]
    }
   ],
   "source": [
    "split_line = line.split(\",\")\n",
    "print(type(split_line))\n",
    "print(split_line)"
   ]
  },
  {
   "cell_type": "markdown",
   "id": "a2a40503-7f96-495a-b750-ad46ba5007b2",
   "metadata": {},
   "source": [
    "So the `split` method created a list from the string `line` by breaking the string at every occurrence of the character `,` (which is called a \"delimeter\"). You can use different choices of \"delimeters\" (see more examples here https://www.programiz.com/python-programming/methods/string/split). Now that we have the list `split_line`, we can easily get the data that we wanted."
   ]
  },
  {
   "cell_type": "code",
   "execution_count": 7,
   "id": "89239d46-3197-40e2-8eb0-fb068b9e5663",
   "metadata": {},
   "outputs": [
    {
     "name": "stdout",
     "output_type": "stream",
     "text": [
      "student Student1 with age 19 got a grade of 99.0 in the exam of CO370\n"
     ]
    }
   ],
   "source": [
    "name = split_line[0]\n",
    "age = int(split_line[1])\n",
    "course = split_line[2]\n",
    "grade = float(split_line[3])\n",
    "print(\"student \" + name + \" with age \" + str(age) + \" got a grade of \" + str(grade) + \" in the exam of \" + course)"
   ]
  },
  {
   "cell_type": "markdown",
   "id": "9ef51128-1daf-4d35-a11e-dc60a38aa536",
   "metadata": {},
   "source": [
    "This (somewhat tedious) process of transforming a \"raw file\" (in our case, a \".csv\" line), into some data that we can use in our program is what people usually refer to as **parsing**."
   ]
  },
  {
   "cell_type": "markdown",
   "id": "d2c6580f-b44a-4282-bcaf-e7f0a5dd1c94",
   "metadata": {},
   "source": [
    "### Reading Files\n",
    "\n",
    "There are several different ways that you can read a file in Python. You can use whatever you feel confortable with. In this Tutorial we will do it as follows."
   ]
  },
  {
   "cell_type": "code",
   "execution_count": 8,
   "id": "252bfa78-df47-4eb7-865a-45d5b66be720",
   "metadata": {},
   "outputs": [
    {
     "name": "stdout",
     "output_type": "stream",
     "text": [
      "<class '_io.TextIOWrapper'>\n",
      "['3, 4\\n', '5, 1\\n', '6, 2\\n', '7, 4\\n', '5, 2']\n"
     ]
    }
   ],
   "source": [
    "f = open(\"../data/data1.txt\", \"r\") # read the file in the path `../data/data1.txt` and creates a `file` object\n",
    "print(type(f))\n",
    "data = f.readlines() # gives a list of strings, where each string is a line of the original file.\n",
    "print(data)\n",
    "f.close() # this is not necessary, but it is good practice to close the files after reading them!"
   ]
  },
  {
   "cell_type": "markdown",
   "id": "f312548e-f961-4751-bf75-adbb05b3cfa4",
   "metadata": {},
   "source": [
    "The character `\\n` is an \"new line\" character, and it tells the computer that we are creating a new line. The important thing now is that `data` is just a list of strings, and we already know how to iterate through a list. Even more, we already know how parse each of these lines."
   ]
  },
  {
   "cell_type": "code",
   "execution_count": 9,
   "id": "926a47d8-ddc7-4ec0-8ccc-a75fc23742de",
   "metadata": {},
   "outputs": [
    {
     "name": "stdout",
     "output_type": "stream",
     "text": [
      "3, 4\n",
      " is a line of my data.\n",
      "splitted line ['3', ' 4\\n']\n",
      "5, 1\n",
      " is a line of my data.\n",
      "splitted line ['5', ' 1\\n']\n",
      "6, 2\n",
      " is a line of my data.\n",
      "splitted line ['6', ' 2\\n']\n",
      "7, 4\n",
      " is a line of my data.\n",
      "splitted line ['7', ' 4\\n']\n",
      "5, 2 is a line of my data.\n",
      "splitted line ['5', ' 2']\n"
     ]
    }
   ],
   "source": [
    "for line in data:\n",
    "    print(line + \" is a line of my data.\")\n",
    "    split_line = line.split(\",\")\n",
    "    print(\"splitted line \" + str(split_line))"
   ]
  },
  {
   "cell_type": "markdown",
   "id": "5ad9b267-151b-4d79-acb1-648925fb9aaf",
   "metadata": {},
   "source": [
    "Note that we still have the annoying `\\n` character in some of the entries of the lists. It turns out that Python is smart enough and we can still convert these strings to numbers."
   ]
  },
  {
   "cell_type": "code",
   "execution_count": 10,
   "id": "574dbe9a-bfd9-4032-b7c2-cec568bdf7b0",
   "metadata": {},
   "outputs": [
    {
     "name": "stdout",
     "output_type": "stream",
     "text": [
      "Objective function coefficient is 3, Constraint coefficient is 4\n",
      "Objective function coefficient is 5, Constraint coefficient is 1\n",
      "Objective function coefficient is 6, Constraint coefficient is 2\n",
      "Objective function coefficient is 7, Constraint coefficient is 4\n",
      "Objective function coefficient is 5, Constraint coefficient is 2\n"
     ]
    }
   ],
   "source": [
    "for line in data:\n",
    "    split_line = line.split(\",\")\n",
    "    obj_coeff = int(split_line[0])\n",
    "    cons_coeff = int(split_line[1])\n",
    "    print(\"Objective function coefficient is \" + str(obj_coeff) + \", Constraint coefficient is \" + str(cons_coeff))"
   ]
  },
  {
   "cell_type": "markdown",
   "id": "6b832706-edfd-41f9-aafd-dcade421f29a",
   "metadata": {},
   "source": [
    "This is great! To wrap-up let's put all the objective function coefficients and constraint coefficients in some lists."
   ]
  },
  {
   "cell_type": "code",
   "execution_count": 11,
   "id": "09f67cbb-dee8-45cb-87b6-25c7bd1a269d",
   "metadata": {},
   "outputs": [
    {
     "name": "stdout",
     "output_type": "stream",
     "text": [
      "Objective coeffs list: [3, 5, 6, 7, 5]\n",
      "Constraint coeffs list: [4, 1, 2, 4, 2]\n"
     ]
    }
   ],
   "source": [
    "obj_coeffs = []\n",
    "cons_coeffs = []\n",
    "for line in data:\n",
    "    split_line = line.split(\",\")\n",
    "    obj_coeffs.append(int(split_line[0]))\n",
    "    cons_coeffs.append(int(split_line[1]))\n",
    "print(\"Objective coeffs list: \" + str(obj_coeffs))\n",
    "print(\"Constraint coeffs list: \" + str(cons_coeffs))"
   ]
  },
  {
   "cell_type": "markdown",
   "id": "8154e3c3-6c24-4bf3-b532-d6f99c997cbd",
   "metadata": {},
   "source": [
    "## Creating Gurobi Models from Files\n",
    "\n",
    "We will now write a script that uses Gurobi to solve the following linear program.\n",
    "$$\n",
    "\\begin{align}\n",
    "\\text{max} &~~3 x_1 + 5 x_2 + 6 x_3 + 7 x_4 + 5 x_5 \\\\\n",
    "\\text{s.t.} &~~4 x_1 + x_2 + 2 x_3 + 4 x_4 + 2 x_5 \\leq 10, \\\\\n",
    "&~~x \\geq 0.\n",
    "\\end{align}\n",
    "$$\n",
    "\n",
    "As you might have noticed, we already have the coefficients in the objective function and in the constraint."
   ]
  },
  {
   "cell_type": "code",
   "execution_count": 12,
   "id": "9801c9f0-701d-4022-83ee-c494a2f48f77",
   "metadata": {},
   "outputs": [
    {
     "name": "stdout",
     "output_type": "stream",
     "text": [
      "[3, 5, 6, 7, 5]\n",
      "[4, 1, 2, 4, 2]\n"
     ]
    }
   ],
   "source": [
    "print(obj_coeffs)\n",
    "print(cons_coeffs)"
   ]
  },
  {
   "cell_type": "raw",
   "id": "389324d3-aa64-4cb5-aea8-b74dad1edbfb",
   "metadata": {},
   "source": [
    "Let's import Gurobi and create the model."
   ]
  },
  {
   "cell_type": "code",
   "execution_count": 13,
   "id": "a898578e-ed7f-414d-a56d-2e0019501e51",
   "metadata": {},
   "outputs": [
    {
     "name": "stdout",
     "output_type": "stream",
     "text": [
      "Set parameter Username\n",
      "Academic license - for non-commercial use only - expires 2025-05-16\n",
      "<class 'gurobipy.Model'>\n"
     ]
    }
   ],
   "source": [
    "import gurobipy as gp\n",
    "from gurobipy import GRB\n",
    "m = gp.Model(\"model\")\n",
    "print(type(m))"
   ]
  },
  {
   "cell_type": "markdown",
   "id": "91d1e1cc-9e74-4ab7-b9af-6a5ccca3370b",
   "metadata": {},
   "source": [
    "To create the variables, we are going to use Gurobi `addVars` function."
   ]
  },
  {
   "cell_type": "code",
   "execution_count": 14,
   "id": "6cd145c9-759a-4293-b050-c1d504c9a965",
   "metadata": {},
   "outputs": [
    {
     "name": "stdout",
     "output_type": "stream",
     "text": [
      "{0: <gurobi.Var x[0]>, 1: <gurobi.Var x[1]>, 2: <gurobi.Var x[2]>, 3: <gurobi.Var x[3]>, 4: <gurobi.Var x[4]>}\n"
     ]
    }
   ],
   "source": [
    "n = len(obj_coeffs)\n",
    "\n",
    "# NOTE: By default all variables have LB = 0, UB = infty (float('inf'))\n",
    "# and are of type GRB.CONTINUOUS. You may change these parameters (they are optional)\n",
    "x = m.addVars(n, vtype=GRB.CONTINUOUS, name=\"x\")\n",
    "\n",
    "print(x)"
   ]
  },
  {
   "cell_type": "markdown",
   "id": "3c9ede61-f929-4fe3-8c37-6a32764eb08f",
   "metadata": {},
   "source": [
    "So the `addVars` function gives a list of variables indexed from 0 to n - 1. Let us now build the objective function and the constraint."
   ]
  },
  {
   "cell_type": "code",
   "execution_count": 15,
   "id": "6da98d97-1abc-4c36-8e8d-ad1fb36f4eb6",
   "metadata": {},
   "outputs": [
    {
     "name": "stdout",
     "output_type": "stream",
     "text": [
      "3.0 x[0] + 5.0 x[1] + 6.0 x[2] + 7.0 x[3] + 5.0 x[4]\n",
      "4.0 x[0] + x[1] + 2.0 x[2] + 4.0 x[3] + 2.0 x[4]\n"
     ]
    },
    {
     "data": {
      "text/plain": [
       "<gurobi.Constr *Awaiting Model Update*>"
      ]
     },
     "execution_count": 15,
     "metadata": {},
     "output_type": "execute_result"
    }
   ],
   "source": [
    "obj_expr = 0\n",
    "cons_expr = 0\n",
    "for i in range(n):\n",
    "    obj_expr += obj_coeffs[i] * x[i]\n",
    "    cons_expr += cons_coeffs[i] * x[i]\n",
    "print(obj_expr)\n",
    "print(cons_expr)\n",
    "m.setObjective(obj_expr, GRB.MAXIMIZE)\n",
    "m.addConstr(cons_expr <= 10, \"c1\")"
   ]
  },
  {
   "cell_type": "markdown",
   "id": "945d480d-a00f-46c3-aa2a-00108240e014",
   "metadata": {},
   "source": [
    "There are a lot of things happening above. The `for i in range(n)` you can read it simply as `for i = 0, ..., n - 1`. The loop is then essentially just going through the lists of objective/constraint coefficients and creating expressions (i.e. $3 x_1 + 5 x_3 + ...$) for adding the objective/constraint to the model. We can now solve the model and get a solution."
   ]
  },
  {
   "cell_type": "code",
   "execution_count": 16,
   "id": "f78beb18-f24c-4dc5-9b2f-58f75a464b15",
   "metadata": {},
   "outputs": [
    {
     "name": "stdout",
     "output_type": "stream",
     "text": [
      "Gurobi Optimizer version 10.0.0 build v10.0.0rc2 (linux64)\n",
      "\n",
      "CPU model: Intel(R) Core(TM) i7-4720HQ CPU @ 2.60GHz, instruction set [SSE2|AVX|AVX2]\n",
      "Thread count: 4 physical cores, 8 logical processors, using up to 8 threads\n",
      "\n",
      "Optimize a model with 1 rows, 5 columns and 5 nonzeros\n",
      "Model fingerprint: 0xafca99d6\n",
      "Coefficient statistics:\n",
      "  Matrix range     [1e+00, 4e+00]\n",
      "  Objective range  [3e+00, 7e+00]\n",
      "  Bounds range     [0e+00, 0e+00]\n",
      "  RHS range        [1e+01, 1e+01]\n",
      "Presolve removed 1 rows and 5 columns\n",
      "Presolve time: 0.03s\n",
      "Presolve: All rows and columns removed\n",
      "Iteration    Objective       Primal Inf.    Dual Inf.      Time\n",
      "       0    5.0000000e+01   0.000000e+00   0.000000e+00      0s\n",
      "\n",
      "Solved in 0 iterations and 0.04 seconds (0.00 work units)\n",
      "Optimal objective  5.000000000e+01\n",
      "Gurobi status: 2\n",
      "\n",
      "**** SOLUTION OBTAINED FROM GUROBI ****\n",
      "Cost: 50.0\n",
      "Vars:\n",
      "x[0] : 0.0\n",
      "x[1] : 10.0\n",
      "x[2] : 0.0\n",
      "x[3] : 0.0\n",
      "x[4] : 0.0\n"
     ]
    }
   ],
   "source": [
    "m.optimize()\n",
    "\n",
    "print(\"Gurobi status: \" + str(m.status))\n",
    "print(\"\\n**** SOLUTION OBTAINED FROM GUROBI ****\")\n",
    "print(\"Cost: \" + str(m.ObjVal))\n",
    "print(\"Vars:\")\n",
    "for i in range(n):\n",
    "    print(x[i].VarName + \" : \" + str(x[i].X))"
   ]
  },
  {
   "cell_type": "markdown",
   "id": "991cb29a-32d1-4845-8182-c941fcb6da1e",
   "metadata": {},
   "source": [
    "Great! Note also that we got the status code `2` which means that Gurobi found an optimal solution (see https://www.gurobi.com/documentation/current/refman/optimization_status_codes.html). Now before we finish the Tutorial, I also want to tell you that we can build linear expressions with the `prod` method in Gurobi (https://docs.gurobi.com/projects/optimizer/en/current/reference/python/tupledict.html#tupledict.prod). If `x` is a vector with `n` variables and `A` is a list of size `n`, then `x.prod(A)` builds the expression `A[0] x[0] + ... + A[n - 1] x[n - 1]`. As always, it is easier to look at an example."
   ]
  },
  {
   "cell_type": "code",
   "execution_count": 17,
   "id": "123d622c-d3be-4543-8b82-047551ed1c09",
   "metadata": {},
   "outputs": [
    {
     "name": "stdout",
     "output_type": "stream",
     "text": [
      "3.0 x[0] + 5.0 x[1] + 6.0 x[2] + 7.0 x[3] + 5.0 x[4]\n",
      "4.0 x[0] + x[1] + 2.0 x[2] + 4.0 x[3] + 2.0 x[4]\n",
      "Gurobi Optimizer version 10.0.0 build v10.0.0rc2 (linux64)\n",
      "\n",
      "CPU model: Intel(R) Core(TM) i7-4720HQ CPU @ 2.60GHz, instruction set [SSE2|AVX|AVX2]\n",
      "Thread count: 4 physical cores, 8 logical processors, using up to 8 threads\n",
      "\n",
      "Optimize a model with 2 rows, 5 columns and 10 nonzeros\n",
      "Coefficient statistics:\n",
      "  Matrix range     [1e+00, 4e+00]\n",
      "  Objective range  [3e+00, 7e+00]\n",
      "  Bounds range     [0e+00, 0e+00]\n",
      "  RHS range        [1e+01, 1e+01]\n",
      "Iteration    Objective       Primal Inf.    Dual Inf.      Time\n",
      "       0    5.0000000e+01   0.000000e+00   0.000000e+00      0s\n",
      "\n",
      "Solved in 0 iterations and 0.01 seconds (0.00 work units)\n",
      "Optimal objective  5.000000000e+01\n"
     ]
    }
   ],
   "source": [
    "obj_expr = x.prod(obj_coeffs)\n",
    "cons_expr = x.prod(cons_coeffs)\n",
    "print(obj_expr)\n",
    "print(cons_expr)\n",
    "m.setObjective(obj_expr, GRB.MAXIMIZE)\n",
    "m.addConstr(cons_expr <= 10, \"c1\")\n",
    "m.optimize()"
   ]
  },
  {
   "cell_type": "markdown",
   "id": "28a81dcf-d371-461a-b0e1-0e0daea31bc7",
   "metadata": {},
   "source": [
    "As expected, we got the same result."
   ]
  },
  {
   "cell_type": "markdown",
   "id": "9758111d-f790-41ff-b012-1fe41dc191df",
   "metadata": {},
   "source": [
    "# Exercise\n",
    "\n",
    "Download this file (https://github.com/matheusota/CO370-2024/blob/main/data/data2.txt), which is in the following form.\n",
    "```\n",
    "O[0], A[0]\n",
    "O[1], A[1]\n",
    "...\n",
    "O[n - 1], A[n - 1]\n",
    "```\n",
    "\n",
    "Write a Python script that uses Gurobi to solve the following linear program and get a corresponding optimal solution.\n",
    "$$\n",
    "\\begin{align}\n",
    "\\text{max} &~~\\sum_{i = 0}^{n - 1} O[i] \\cdot x_i \\\\\n",
    "\\text{s.t.} &~~\\sum_{i = 0}^{n - 1} A[i] \\cdot x_i \\leq 10, \\\\\n",
    "&~~x \\geq 0.\n",
    "\\end{align}\n",
    "$$\n",
    "\n",
    "Now modify the file data2.txt by adding to it the line\n",
    "\n",
    "```10, -1```\n",
    "\n",
    "and run your script again (without modifying the code). What is the output of your program now? If the output changed, explain why."
   ]
  }
 ],
 "metadata": {
  "kernelspec": {
   "display_name": "Python 3 (ipykernel)",
   "language": "python",
   "name": "python3"
  },
  "language_info": {
   "codemirror_mode": {
    "name": "ipython",
    "version": 3
   },
   "file_extension": ".py",
   "mimetype": "text/x-python",
   "name": "python",
   "nbconvert_exporter": "python",
   "pygments_lexer": "ipython3",
   "version": "3.8.10"
  }
 },
 "nbformat": 4,
 "nbformat_minor": 5
}
